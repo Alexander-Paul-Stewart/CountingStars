{
 "cells": [
  {
   "cell_type": "code",
   "execution_count": null,
   "metadata": {},
   "outputs": [],
   "source": [
    "\n",
    "#Generate all possible MLQ of a composition\n",
    "#Input: a list of nonnegative integers\n",
    "#Output: all MLQ\n",
    "def generateMLQ(composition):\n",
    "\n",
    "    largestpart = max(composition)\n",
    "    rows = [composition, []*(largestpart-1]\n",
    "    \n",
    "\n",
    "ggnvbnvbnvbvbnbvbnvbn"
   ]
  }
 ],
 "metadata": {
  "language_info": {
   "name": "python"
  }
 },
 "nbformat": 4,
 "nbformat_minor": 2
}
