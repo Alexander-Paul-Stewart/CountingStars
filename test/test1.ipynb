{
 "cells": [
  {
   "cell_type": "code",
   "execution_count": 1,
   "metadata": {},
   "outputs": [
    {
     "data": {
      "text/plain": [
       "((4, 4, 3, 3, 2, 2, 1, 1), (1, 1, 1, 1))"
      ]
     },
     "execution_count": 1,
     "metadata": {},
     "output_type": "execute_result"
    }
   ],
   "source": [
    "n = 3\n",
    "\n",
    "def stirling_permutations(n):\n",
    "    if n < 1: raise ValueError(\"invalid input\")\n",
    "    if n == 1: return [((1,1), (1,))]\n",
    "    stirling_permutations_list = []\n",
    "    for x, y in stirling_permutations(n-1):\n",
    "        for i in range(len(x) + 1):\n",
    "            stirling_permutations_list.append((x[:i] + (n,n) + x[i:], y + (i+1,)))\n",
    "\n",
    "    return stirling_permutations_list\n",
    "\n",
    "perm = stirling_permutations(4)[0]\n",
    "perm"
   ]
  },
  {
   "cell_type": "code",
   "execution_count": 2,
   "metadata": {},
   "outputs": [
    {
     "name": "stdout",
     "output_type": "stream",
     "text": [
      "(1, 2, 3, 4, 4, 3, 2, 1)\n"
     ]
    },
    {
     "data": {
      "text/plain": [
       "[1, 2, 3, 4]"
      ]
     },
     "execution_count": 2,
     "metadata": {},
     "output_type": "execute_result"
    }
   ],
   "source": [
    "def park(parkingtuple):\n",
    "    park = [0] * len(parkingtuple)\n",
    "    for i in range(len(park)):\n",
    "        pspot = parkingtuple[i] - 1\n",
    "        testforpark = False\n",
    "        while testforpark == False: \n",
    "            if park[pspot] == 0:\n",
    "                park[pspot] = parkingtuple[i]\n",
    "                testforpark = True\n",
    "            else: \n",
    "                pspot = pspot + 1\n",
    "    return tuple(park)\n",
    "\n",
    "def lucky_nums(pf):\n",
    "    lucky_nums = []\n",
    "    for x, y in enumerate(pf):\n",
    "        if x + 1 == y: lucky_nums.append(y)\n",
    "    return lucky_nums #gives the lucky cars\n",
    "\n",
    "print(park(perm[0]))\n",
    "lucky_nums(park(perm[0]))"
   ]
  },
  {
   "cell_type": "code",
   "execution_count": 3,
   "metadata": {},
   "outputs": [],
   "source": [
    "def grouped(stirling_permutations_list):\n",
    "    grouped = [[] for _ in range(n)]\n",
    "    for perm, insword in stirling_permutations_list:\n",
    "        pf = park(perm)\n",
    "        lucky_cars = lucky_nums(pf)\n",
    "        valueofluckycars = tuple([(i, insword[i-1]) for i in lucky_cars])\n",
    "        grouped[len(lucky_cars) - 1].append((perm, valueofluckycars, 1))\n",
    "    return grouped"
   ]
  },
  {
   "cell_type": "code",
   "execution_count": 4,
   "metadata": {},
   "outputs": [
    {
     "data": {
      "text/plain": [
       "{((1, 1), (2, 1), (3, 1)): 1,\n",
       " ((1, 1), (2, 1), (3, 2)): 1,\n",
       " ((1, 1), (2, 2), (3, 1)): 1,\n",
       " ((1, 1), (2, 2), (3, 2)): 1,\n",
       " ((1, 1), (2, 2), (3, 3)): 1}"
      ]
     },
     "execution_count": 4,
     "metadata": {},
     "output_type": "execute_result"
    }
   ],
   "source": [
    "stirling_permutations_list = stirling_permutations(n)\n",
    "g = grouped(stirling_permutations_list)\n",
    "\n",
    "fin = [{} for _ in g]\n",
    "for i, triples in enumerate(g):\n",
    "    for _, y, _ in triples:\n",
    "        fin[i][y] = fin[i].get(y, 0) + 1\n",
    "fin[2]"
   ]
  },
  {
   "cell_type": "markdown",
   "metadata": {},
   "source": []
  },
  {
   "cell_type": "code",
   "execution_count": 5,
   "metadata": {},
   "outputs": [
    {
     "data": {
      "text/plain": [
       "((1, 2, 2, 4, 4, 3, 3, 1), (1, 2, 4, 4))"
      ]
     },
     "execution_count": 5,
     "metadata": {},
     "output_type": "execute_result"
    }
   ],
   "source": [
    "\n",
    "def image(n):\n",
    "    if n < 1: raise ValueError(\"invalid input\")\n",
    "    if n == 1: return [((1,1), (1,))]\n",
    "    image_list = []\n",
    "    for x, y in image(n-1):\n",
    "        for i in range(n-1, len(x) + 1):\n",
    "            image_list.append((x[:i] + (n,n) + x[i:], y + (i+1,)))\n",
    "\n",
    "    return image_list\n",
    "\n",
    "image(4)[4]"
   ]
  },
  {
   "cell_type": "code",
   "execution_count": 6,
   "metadata": {},
   "outputs": [],
   "source": [
    "stirling_permutations_list = stirling_permutations(n)\n",
    "\n",
    "def parkall(stirling_permutations_list):\n",
    "    parkall = []\n",
    "    for perm, insword in stirling_permutations_list:\n",
    "        parkall.append(park(perm))\n",
    "    return parkall\n"
   ]
  },
  {
   "cell_type": "code",
   "execution_count": 7,
   "metadata": {},
   "outputs": [
    {
     "data": {
      "text/plain": [
       "Counter({(1, 2, 3, 3, 2, 1): 5, (1, 2, 2, 3, 3, 1): 3, (1, 1, 3, 3, 2, 2): 3, (1, 2, 2, 1, 3, 3): 2, (1, 1, 2, 3, 3, 2): 1, (1, 1, 2, 2, 3, 3): 1})"
      ]
     },
     "execution_count": 7,
     "metadata": {},
     "output_type": "execute_result"
    }
   ],
   "source": [
    "from collections import Counter\n",
    "stirling_permutations_list = stirling_permutations(n)\n",
    "list = parkall(stirling_permutations_list)\n",
    "Counter(list)\n"
   ]
  },
  {
   "cell_type": "code",
   "execution_count": 8,
   "metadata": {},
   "outputs": [
    {
     "data": {
      "text/plain": [
       "(1, 2, 3, 4, 5)"
      ]
     },
     "execution_count": 8,
     "metadata": {},
     "output_type": "execute_result"
    }
   ],
   "source": [
    "def give_insword(stirling_permutation):\n",
    "\n",
    "    insertion_word = (1,)\n",
    "    for i in range(2, len(stirling_permutation)/2+1):\n",
    "        count = 1\n",
    "        for j in range(0, len(stirling_permutation)):\n",
    "            if stirling_permutation[j] < i:\n",
    "                count = count + 1\n",
    "            if stirling_permutation[j] == i:\n",
    "                insertion_word = insertion_word + (count,)\n",
    "                break\n",
    "    return insertion_word\n",
    "\n",
    "give_insword((1, 2, 3, 4, 5, 5, 4, 3, 2, 1))"
   ]
  },
  {
   "cell_type": "code",
   "execution_count": 9,
   "metadata": {},
   "outputs": [],
   "source": [
    "stirling_permutations_list = stirling_permutations(n)\n",
    "\n",
    "parked = parkall(stirling_permutations_list)\n",
    "insword_parked = []\n",
    "for perm in parked:\n",
    "    parked_insword = give_insword(perm)\n",
    "    insword_parked.append(parked_insword)\n",
    "\n",
    "Matrix = Counter(insword_parked)"
   ]
  },
  {
   "cell_type": "code",
   "execution_count": 10,
   "metadata": {},
   "outputs": [
    {
     "name": "stdout",
     "output_type": "stream",
     "text": [
      "15\n",
      "[[5. 3.]\n",
      " [3. 1.]\n",
      " [2. 1.]]\n"
     ]
    }
   ],
   "source": [
    "import numpy as np\n",
    "\n",
    "stirling_permutations_list = stirling_permutations(n)\n",
    "\n",
    "parked = parkall(stirling_permutations_list)\n",
    "print(len(parked))\n",
    "insword_parked = []\n",
    "for perm in parked:\n",
    "    parked_insword = give_insword(perm)\n",
    "    insword_parked.append(parked_insword)\n",
    "\n",
    "Dictionary = Counter(insword_parked)\n",
    "\n",
    "matrix_of_zeros = np.zeros((n, np.math.factorial(n-1)))\n",
    "column_ordering = image(n-1)\n",
    "for i in range(0, n):\n",
    "    for j in range(0, len(column_ordering)):\n",
    "        matrix_of_zeros[i,j] = Dictionary[column_ordering[j][1]+(i+n,)]\n",
    "\n",
    "print(matrix_of_zeros)\n"
   ]
  }
 ],
 "metadata": {
  "kernelspec": {
   "display_name": "SageMath 10.6",
   "language": "sage",
   "name": "SageMath-10.6"
  },
  "language_info": {
   "codemirror_mode": {
    "name": "ipython",
    "version": 3
   },
   "file_extension": ".py",
   "mimetype": "text/x-python",
   "name": "python",
   "nbconvert_exporter": "python",
   "pygments_lexer": "ipython3",
   "version": "3.12.5"
  }
 },
 "nbformat": 4,
 "nbformat_minor": 4
}
