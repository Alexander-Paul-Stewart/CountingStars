{
 "cells": [
  {
   "cell_type": "code",
   "execution_count": 22,
   "metadata": {
    "vscode": {
     "languageId": "sage"
    }
   },
   "outputs": [
    {
     "data": {
      "text/plain": [
       "[1, 3, 15, 105, 945, 10395, 135135, 2027025, 34459425]"
      ]
     },
     "execution_count": 22,
     "metadata": {},
     "output_type": "execute_result"
    }
   ],
   "source": [
    "def stirling_permutations(n):\n",
    "    if n < 1: raise ValueError(\"invalid input\")\n",
    "    if n == 1: return [((1,1), ())]\n",
    "    stirling_permutations_list = []\n",
    "    for x, y in stirling_permutations(n-1):\n",
    "        for i in range(len(x) + 1):\n",
    "            stirling_permutations_list.append((x[:i] + (n,n) + x[i:], y + (i,)))\n",
    "\n",
    "    return stirling_permutations_list\n",
    "    \n",
    "[len(stirling_permutations(i)) for i in range(1, 10)]"
   ]
  }
 ],
 "metadata": {
  "kernelspec": {
   "display_name": "SageMath 10.3",
   "language": "sage",
   "name": "sagemath"
  },
  "language_info": {
   "codemirror_mode": {
    "name": "ipython",
    "version": 3
   },
   "file_extension": ".py",
   "mimetype": "text/x-python",
   "name": "python",
   "nbconvert_exporter": "python",
   "pygments_lexer": "ipython3",
   "version": "3.11.9"
  }
 },
 "nbformat": 4,
 "nbformat_minor": 2
}
