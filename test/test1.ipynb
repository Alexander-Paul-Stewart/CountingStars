{
 "cells": [
  {
   "cell_type": "code",
   "execution_count": 10,
   "metadata": {
    "vscode": {
     "languageId": "sage"
    }
   },
   "outputs": [],
   "source": [
    "def stirling_permutations(n):\n",
    "    if n < 1: raise ValueError(\"invalid input\")\n",
    "    if n == 1: return [((1,1), (1,))]\n",
    "    stirling_permutations_list = []\n",
    "    for x, y in stirling_permutations(n-1):\n",
    "        for i in range(len(x) + 1):\n",
    "            stirling_permutations_list.append((x[:i] + (n,n) + x[i:], y + (i+1,)))\n",
    "\n",
    "    return stirling_permutations_list"
   ]
  },
  {
   "cell_type": "code",
   "execution_count": 11,
   "metadata": {
    "vscode": {
     "languageId": "sage"
    }
   },
   "outputs": [
    {
     "data": {
      "text/plain": [
       "[1, 2, 3, 3, 2, 1]"
      ]
     },
     "execution_count": 11,
     "metadata": {},
     "output_type": "execute_result"
    }
   ],
   "source": [
    "test = (1,3,3,2,2,1)\n",
    "def park(parkingtuple):\n",
    "    park = [0] * len(parkingtuple)\n",
    "    for i in range(len(park)):\n",
    "        pspot = parkingtuple[i] - 1\n",
    "        testforpark = False\n",
    "        while testforpark == False: \n",
    "            if park[pspot] == 0:\n",
    "                park[pspot] = parkingtuple[i]\n",
    "                testforpark = True\n",
    "            else: \n",
    "                pspot = pspot + 1\n",
    "    return park\n",
    "\n",
    "def lucky_nums(pf):\n",
    "    lucky_nums = []\n",
    "    for x, y in enumerate(pf):\n",
    "        if x + 1 == y: lucky_nums.append(y)\n",
    "    return lucky_nums #gives the lucky cars\n",
    "\n",
    "park(test)"
   ]
  }
 ],
 "metadata": {
  "kernelspec": {
   "display_name": "SageMath 10.3",
   "language": "sage",
   "name": "sagemath"
  },
  "language_info": {
   "codemirror_mode": {
    "name": "ipython",
    "version": 3
   },
   "file_extension": ".py",
   "mimetype": "text/x-python",
   "name": "python",
   "nbconvert_exporter": "python",
   "pygments_lexer": "ipython3",
   "version": "3.11.9"
  }
 },
 "nbformat": 4,
 "nbformat_minor": 2
}
