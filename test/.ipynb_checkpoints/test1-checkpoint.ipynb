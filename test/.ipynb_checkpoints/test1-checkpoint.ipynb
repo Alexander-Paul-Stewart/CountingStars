{
 "cells": [
  {
   "cell_type": "code",
   "execution_count": null,
   "metadata": {},
   "outputs": [
    {
     "data": {
      "text/plain": [
       "((2, 5, 5, 3, 3, 2, 4, 4, 1, 1), (1, 1, 2, 5, 2))"
      ]
     },
     "execution_count": 87,
     "metadata": {},
     "output_type": "execute_result"
    }
   ],
   "source": [
    "n = 5\n",
    "\n",
    "def stirling_permutations(n):\n",
    "    if n < 1: raise ValueError(\"invalid input\")\n",
    "    if n == 1: return [((1,1), (1,))]\n",
    "    stirling_permutations_list = []\n",
    "    for x, y in stirling_permutations(n-1):\n",
    "        for i in range(len(x) + 1):\n",
    "            stirling_permutations_list.append((x[:i] + (n,n) + x[i:], y + (i+1,)))\n",
    "\n",
    "    return stirling_permutations_list\n",
    "\n",
    "perm = stirling_permutations(5)[101]\n",
    "perm"
   ]
  },
  {
   "cell_type": "code",
   "execution_count": null,
   "metadata": {},
   "outputs": [
    {
     "name": "stdout",
     "output_type": "stream",
     "text": [
      "(1, 2, 3, 3, 5, 5, 2, 4, 4, 1)\n"
     ]
    },
    {
     "data": {
      "text/plain": [
       "[1, 2, 3, 5]"
      ]
     },
     "execution_count": 88,
     "metadata": {},
     "output_type": "execute_result"
    }
   ],
   "source": [
    "def park(parkingtuple):\n",
    "    park = [0] * len(parkingtuple)\n",
    "    for i in range(len(park)):\n",
    "        pspot = parkingtuple[i] - 1\n",
    "        testforpark = False\n",
    "        while testforpark == False: \n",
    "            if park[pspot] == 0:\n",
    "                park[pspot] = parkingtuple[i]\n",
    "                testforpark = True\n",
    "            else: \n",
    "                pspot = pspot + 1\n",
    "    return tuple(park)\n",
    "\n",
    "def lucky_nums(pf):\n",
    "    lucky_nums = []\n",
    "    for x, y in enumerate(pf):\n",
    "        if x + 1 == y: lucky_nums.append(y)\n",
    "    return lucky_nums #gives the lucky cars\n",
    "\n",
    "print(park(perm[0]))\n",
    "lucky_nums(park(perm[0]))"
   ]
  },
  {
   "cell_type": "code",
   "execution_count": null,
   "metadata": {},
   "outputs": [],
   "source": [
    "def grouped(stirling_permutations_list):\n",
    "    grouped = [[] for _ in range(n)]\n",
    "    for perm, insword in stirling_permutations_list:\n",
    "        pf = park(perm)\n",
    "        lucky_cars = lucky_nums(pf)\n",
    "        valueofluckycars = tuple([(i, insword[i-1]) for i in lucky_cars])\n",
    "        grouped[len(lucky_cars) - 1].append((perm, valueofluckycars, 1))\n",
    "    return grouped"
   ]
  },
  {
   "cell_type": "code",
   "execution_count": null,
   "metadata": {},
   "outputs": [
    {
     "data": {
      "text/plain": [
       "{((1, 1), (2, 1), (3, 1)): 26,\n",
       " ((1, 1), (2, 1), (3, 2)): 20,\n",
       " ((1, 1), (2, 1), (4, 1)): 21,\n",
       " ((1, 1), (2, 1), (4, 2)): 18,\n",
       " ((1, 1), (2, 1), (4, 3)): 15,\n",
       " ((1, 1), (2, 1), (5, 1)): 10,\n",
       " ((1, 1), (2, 1), (5, 2)): 10,\n",
       " ((1, 1), (2, 1), (5, 3)): 10,\n",
       " ((1, 1), (2, 1), (5, 4)): 10,\n",
       " ((1, 1), (2, 1), (4, 4)): 8,\n",
       " ((1, 1), (2, 1), (5, 5)): 6,\n",
       " ((1, 1), (2, 2), (3, 1)): 23,\n",
       " ((1, 1), (2, 2), (3, 2)): 17,\n",
       " ((1, 1), (2, 2), (3, 3)): 12,\n",
       " ((1, 1), (2, 2), (4, 1)): 14,\n",
       " ((1, 1), (2, 2), (4, 2)): 12,\n",
       " ((1, 1), (2, 2), (4, 3)): 10,\n",
       " ((1, 1), (2, 2), (4, 4)): 8,\n",
       " ((1, 1), (2, 2), (5, 1)): 6,\n",
       " ((1, 1), (2, 2), (5, 2)): 6,\n",
       " ((1, 1), (2, 2), (5, 3)): 6,\n",
       " ((1, 1), (2, 2), (5, 4)): 6,\n",
       " ((1, 1), (2, 2), (5, 5)): 6,\n",
       " ((1, 1), (3, 1), (4, 1)): 7,\n",
       " ((1, 1), (3, 1), (4, 2)): 6,\n",
       " ((1, 1), (3, 1), (5, 1)): 5,\n",
       " ((1, 1), (3, 1), (5, 2)): 5,\n",
       " ((1, 1), (3, 1), (5, 3)): 5,\n",
       " ((1, 1), (3, 1), (5, 4)): 4,\n",
       " ((1, 1), (3, 1), (5, 5)): 3,\n",
       " ((1, 1), (3, 2), (4, 1)): 7,\n",
       " ((1, 1), (3, 2), (4, 2)): 6,\n",
       " ((1, 1), (3, 2), (4, 3)): 5,\n",
       " ((1, 1), (3, 2), (5, 1)): 4,\n",
       " ((1, 1), (3, 2), (5, 2)): 4,\n",
       " ((1, 1), (3, 2), (5, 3)): 4,\n",
       " ((1, 1), (3, 2), (5, 4)): 4,\n",
       " ((1, 1), (3, 2), (5, 5)): 3,\n",
       " ((1, 1), (3, 3), (4, 1)): 7,\n",
       " ((1, 1), (3, 3), (4, 2)): 6,\n",
       " ((1, 1), (3, 3), (4, 3)): 5,\n",
       " ((1, 1), (3, 3), (4, 4)): 4,\n",
       " ((1, 1), (3, 3), (5, 1)): 3,\n",
       " ((1, 1), (3, 3), (5, 2)): 3,\n",
       " ((1, 1), (3, 3), (5, 3)): 3,\n",
       " ((1, 1), (3, 3), (5, 4)): 3,\n",
       " ((1, 1), (3, 3), (5, 5)): 3,\n",
       " ((1, 1), (4, 1), (5, 1)): 2,\n",
       " ((1, 1), (4, 1), (5, 2)): 2,\n",
       " ((1, 1), (4, 2), (5, 1)): 2,\n",
       " ((1, 1), (4, 2), (5, 2)): 2,\n",
       " ((1, 1), (4, 2), (5, 3)): 2,\n",
       " ((1, 1), (4, 3), (5, 1)): 2,\n",
       " ((1, 1), (4, 3), (5, 2)): 2,\n",
       " ((1, 1), (4, 3), (5, 3)): 2,\n",
       " ((1, 1), (4, 3), (5, 4)): 2,\n",
       " ((1, 1), (4, 4), (5, 1)): 2,\n",
       " ((1, 1), (4, 4), (5, 2)): 2,\n",
       " ((1, 1), (4, 4), (5, 3)): 2,\n",
       " ((1, 1), (4, 4), (5, 4)): 2,\n",
       " ((1, 1), (4, 4), (5, 5)): 2}"
      ]
     },
     "execution_count": 90,
     "metadata": {},
     "output_type": "execute_result"
    }
   ],
   "source": [
    "stirling_permutations_list = stirling_permutations(n)\n",
    "g = grouped(stirling_permutations_list)\n",
    "\n",
    "fin = [{} for _ in g]\n",
    "for i, triples in enumerate(g):\n",
    "    for _, y, _ in triples:\n",
    "        fin[i][y] = fin[i].get(y, 0) + 1\n",
    "fin[2]"
   ]
  },
  {
   "cell_type": "markdown",
   "metadata": {},
   "source": []
  }
 ],
 "metadata": {
  "kernelspec": {
   "display_name": "SageMath 9.6",
   "language": "sage",
   "name": "SageMath-9.6"
  },
  "language_info": {
   "codemirror_mode": {
    "name": "ipython",
    "version": 3
   },
   "file_extension": ".py",
   "mimetype": "text/x-python",
   "name": "sage",
   "nbconvert_exporter": "python",
   "pygments_lexer": "ipython3",
   "version": "3.11.8"
  }
 },
 "nbformat": 4,
 "nbformat_minor": 2
}
