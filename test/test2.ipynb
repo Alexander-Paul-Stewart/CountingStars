{
 "cells": [
  {
   "cell_type": "code",
   "execution_count": 31,
   "metadata": {
    "vscode": {
     "languageId": "sage"
    }
   },
   "outputs": [
    {
     "data": {
      "text/plain": [
       "'\\ndef park(seq):\\n\\n'"
      ]
     },
     "execution_count": 31,
     "metadata": {},
     "output_type": "execute_result"
    }
   ],
   "source": [
    "n = 5\n",
    "\n",
    "def stirling_permutations(n):\n",
    "    if n < 1: raise ValueError(\"invalid input\")\n",
    "    if n == 1: return [((1,1), ())]\n",
    "    stirling_permutations_list = []\n",
    "    for x, y in stirling_permutations(n-1):\n",
    "        for i in range(len(x) + 1):\n",
    "            stirling_permutations_list.append((x[:i] + (n,n) + x[i:], y + (i,)))\n",
    "\n",
    "    return stirling_permutations_list\n",
    "\n",
    "def check_parking_sequences(seq):\n",
    "    for x, y in enumerate(sorted(seq)):\n",
    "        if x + 1 < y: return False\n",
    "    return True\n",
    "\n",
    "def lucky_num(pf):\n",
    "    i = 0\n",
    "    for x, y in enumerate(pf):\n",
    "        if x + 1 == y: i = i + 1\n",
    "    return i\n",
    "\n",
    "#todo\n",
    "\"\"\"\n",
    "def park(seq):\n",
    "\n",
    "\"\"\""
   ]
  },
  {
   "cell_type": "code",
   "execution_count": 32,
   "metadata": {
    "vscode": {
     "languageId": "sage"
    }
   },
   "outputs": [],
   "source": [
    "spn = stirling_permutations(n)"
   ]
  },
  {
   "cell_type": "code",
   "execution_count": 33,
   "metadata": {
    "vscode": {
     "languageId": "sage"
    }
   },
   "outputs": [],
   "source": [
    "fin = [[] for _ in range(n)]\n"
   ]
  }
 ],
 "metadata": {
  "kernelspec": {
   "display_name": "SageMath 10.3",
   "language": "sage",
   "name": "sagemath"
  },
  "language_info": {
   "codemirror_mode": {
    "name": "ipython",
    "version": 3
   },
   "file_extension": ".py",
   "mimetype": "text/x-python",
   "name": "python",
   "nbconvert_exporter": "python",
   "pygments_lexer": "ipython3",
   "version": "3.11.9"
  }
 },
 "nbformat": 4,
 "nbformat_minor": 2
}
